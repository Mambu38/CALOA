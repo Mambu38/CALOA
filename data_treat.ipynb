import plotly.tools as tools
import plotly.plotly as py
import plotly.graph_objs as go

import numpy as np
import re

FILE_NAME = __YOUR_FILE_NAME___

AUTH_INFOS = {
    username: __YOUR_USER_NAME___
    api_key: __YOUR_API_KEY__
}

PLOT_TITLE = __YOUR_PLOT_TITLE__


def treat_line(string):
    regexp = r"^ *$"
    tp_analyzed = string.split(' ')
    return [value for value in tp_analyzed if not re.match(regexp, value)]

def extract_data(file_path):
    to_return = []
    with open(file_path, 'r') as file:
        first_line = treat_line(file.readline())
        for i in range(len(first_line)):
            to_return.append([])
            
        for line in map(treat_line, file.readlines()):
            for j in range(len(first_line)):
                to_return[j].append(line[j])
                
    return to_return

tools.set_credentials_file(**AUTH_INFOS)

extracted_datas = extract_data(FILE_NAME)
sample_size = len(extracted_datas)

y_raw = extracted_datas[0]
traces = []

for i in range(2, sample_size):
    print("Processing {} on {}".format(i-1, sample_size-2))
    z_raw = extracted_datas[i]
    x = []
    y = []
    z = []
    ci = int(255/sample_size*i) # ci = "color index"
    for j in range(0, len(z_raw)):
        z.append([z_raw[j], z_raw[j]])
        y.append([y_raw[j], y_raw[j]])
        x.append([i*2, i*2+1])
    traces.append(dict(
        z=z,
        x=x,
        y=y,
        colorscale=[ [i, 'rgb(%d,%d,255)'%(ci, ci)] for i in np.arange(0,1.1,0.1) ],
        showscale=False,
        type='surface',
    ))

fig = { 'data':traces, 'layout':{'title': PLOT_TITLE} }
py.plot(fig, filename='ribbon-{}'.format(PLOT_TITLE), auto_open=True)
